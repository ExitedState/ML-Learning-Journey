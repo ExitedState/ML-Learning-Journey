{
 "cells": [
  {
   "attachments": {},
   "cell_type": "markdown",
   "metadata": {},
   "source": [
    "### [numpy](https://numpy.org/doc/stable/index.html)\n",
    "\n",
    "#### edited version from [@KeithGalli](https://github.com/KeithGalli/NumPy)\n"
   ]
  },
  {
   "cell_type": "code",
   "execution_count": 75,
   "metadata": {},
   "outputs": [],
   "source": [
    "import numpy as np"
   ]
  },
  {
   "attachments": {},
   "cell_type": "markdown",
   "metadata": {},
   "source": [
    "# Overview\n",
    "\n",
    "## Array Creation\n",
    "`arange, array, copy, empty, empty_like, eye, fromfile, fromfunction, identity, linspace, logspace, mgrid, ogrid, ones, ones_like, r_ , zeros, zeros_like`\n",
    "\n",
    "## Conversions\n",
    "`ndarray.astype, atleast_1d, atleast_2d, atleast_3d, mat`\n",
    "\n",
    "## Manipulations\n",
    "`array_split, column_stack, concatenate, diagonal, dsplit, dstack, hsplit, hstack, ndarray.item, newaxis, ravel, repeat, reshape, resize, squeeze, swapaxes, take, transpose, vsplit, vstack`\n",
    "\n",
    "## Questions\n",
    "`all, any, nonzero, where`\n",
    "\n",
    "## Ordering\n",
    "`argmax, argmin, argsort, max, min, ptp, searchsorted, sort`\n",
    "\n",
    "## Operations\n",
    "`choose, compress, cumprod, cumsum, inner, ndarray.fill, imag, prod, put, putmask, real, sum`\n",
    "\n",
    "## Basic Statistics\n",
    "`cov, mean, std, var`\n",
    "\n",
    "## Basic Linear Algebra\n",
    "`cross, dot, outer, linalg.svd, vdot`"
   ]
  },
  {
   "attachments": {},
   "cell_type": "markdown",
   "metadata": {},
   "source": [
    "### The Basics\n"
   ]
  },
  {
   "cell_type": "code",
   "execution_count": 76,
   "metadata": {
    "tags": []
   },
   "outputs": [
    {
     "name": "stdout",
     "output_type": "stream",
     "text": [
      "[  1 127   3]\n"
     ]
    }
   ],
   "source": [
    "a = np.array([1, 127, 3], dtype='int8')  # 8-bit integer (2's complement)\n",
    "print(a)\n"
   ]
  },
  {
   "cell_type": "code",
   "execution_count": 77,
   "metadata": {},
   "outputs": [
    {
     "name": "stdout",
     "output_type": "stream",
     "text": [
      "[[9. 8. 7.]\n",
      " [6. 5. 4.]]\n"
     ]
    }
   ],
   "source": [
    "# 2d array\n",
    "b = np.array([[9.0, 8.0, 7.0], [6.0, 5.0, 4.0]])\n",
    "print(b)\n"
   ]
  },
  {
   "cell_type": "code",
   "execution_count": 78,
   "metadata": {},
   "outputs": [
    {
     "data": {
      "text/plain": [
       "1"
      ]
     },
     "execution_count": 78,
     "metadata": {},
     "output_type": "execute_result"
    }
   ],
   "source": [
    "# Get Dimension\n",
    "a.ndim\n"
   ]
  },
  {
   "cell_type": "code",
   "execution_count": 79,
   "metadata": {},
   "outputs": [
    {
     "data": {
      "text/plain": [
       "(2, 3)"
      ]
     },
     "execution_count": 79,
     "metadata": {},
     "output_type": "execute_result"
    }
   ],
   "source": [
    "# Get Shape\n",
    "b.shape  # ex. (2,3) is 2 rows and 3 columns\n"
   ]
  },
  {
   "cell_type": "code",
   "execution_count": 80,
   "metadata": {},
   "outputs": [
    {
     "data": {
      "text/plain": [
       "(3,)"
      ]
     },
     "execution_count": 80,
     "metadata": {},
     "output_type": "execute_result"
    }
   ],
   "source": [
    "# Get Shape\n",
    "a.shape  # ex. (2,3) is 2 vectors with 3 elements each\n"
   ]
  },
  {
   "cell_type": "code",
   "execution_count": 81,
   "metadata": {},
   "outputs": [
    {
     "data": {
      "text/plain": [
       "dtype('int8')"
      ]
     },
     "execution_count": 81,
     "metadata": {},
     "output_type": "execute_result"
    }
   ],
   "source": [
    "# Get Type\n",
    "a.dtype\n"
   ]
  },
  {
   "cell_type": "code",
   "execution_count": 82,
   "metadata": {},
   "outputs": [
    {
     "data": {
      "text/plain": [
       "1"
      ]
     },
     "execution_count": 82,
     "metadata": {},
     "output_type": "execute_result"
    }
   ],
   "source": [
    "# Get Size\n",
    "a.itemsize  # length of each element in bytes\n"
   ]
  },
  {
   "cell_type": "code",
   "execution_count": 83,
   "metadata": {},
   "outputs": [
    {
     "data": {
      "text/plain": [
       "3"
      ]
     },
     "execution_count": 83,
     "metadata": {},
     "output_type": "execute_result"
    }
   ],
   "source": [
    "# Get total size (in bytes)\n",
    "a.nbytes\n"
   ]
  },
  {
   "cell_type": "code",
   "execution_count": 84,
   "metadata": {},
   "outputs": [
    {
     "data": {
      "text/plain": [
       "3"
      ]
     },
     "execution_count": 84,
     "metadata": {},
     "output_type": "execute_result"
    }
   ],
   "source": [
    "# Get number of elements\n",
    "a.size\n"
   ]
  },
  {
   "attachments": {},
   "cell_type": "markdown",
   "metadata": {},
   "source": [
    "### Accessing/Changing specific elements, rows, columns, etc\n"
   ]
  },
  {
   "cell_type": "code",
   "execution_count": 85,
   "metadata": {},
   "outputs": [
    {
     "name": "stdout",
     "output_type": "stream",
     "text": [
      "[[ 1  2  3  4  5  6  7]\n",
      " [ 8  9 10 11 12 13 14]]\n"
     ]
    }
   ],
   "source": [
    "a = np.array([[1, 2, 3, 4, 5, 6, 7], [8, 9, 10, 11, 12, 13, 14]])\n",
    "print(a)\n"
   ]
  },
  {
   "cell_type": "code",
   "execution_count": 86,
   "metadata": {},
   "outputs": [
    {
     "name": "stdout",
     "output_type": "stream",
     "text": [
      "v1 : 13\n",
      "v2:  13\n"
     ]
    }
   ],
   "source": [
    "# Get a specific element [r, c]\n",
    "print(\"v1 :\", a[1, -2])\n",
    "print(\"v2: \", a[1][-2])  # normal python list\n"
   ]
  },
  {
   "cell_type": "code",
   "execution_count": 87,
   "metadata": {},
   "outputs": [
    {
     "data": {
      "text/plain": [
       "array([1, 3, 5, 7])"
      ]
     },
     "execution_count": 87,
     "metadata": {},
     "output_type": "execute_result"
    }
   ],
   "source": [
    "# Get a specific row\n",
    "a[0, ::2]\n"
   ]
  },
  {
   "cell_type": "code",
   "execution_count": 88,
   "metadata": {},
   "outputs": [
    {
     "data": {
      "text/plain": [
       "array([ 3, 10])"
      ]
     },
     "execution_count": 88,
     "metadata": {},
     "output_type": "execute_result"
    }
   ],
   "source": [
    "# Get a specific column\n",
    "a[:, 2]\n"
   ]
  },
  {
   "cell_type": "code",
   "execution_count": 89,
   "metadata": {},
   "outputs": [
    {
     "data": {
      "text/plain": [
       "array([2, 4, 6])"
      ]
     },
     "execution_count": 89,
     "metadata": {},
     "output_type": "execute_result"
    }
   ],
   "source": [
    "# Getting a little more fancy [startindex:endindex:stepsize]\n",
    "a[0, 1::2]  # or a[0,1:-1:2]\n"
   ]
  },
  {
   "cell_type": "code",
   "execution_count": 90,
   "metadata": {},
   "outputs": [
    {
     "name": "stdout",
     "output_type": "stream",
     "text": [
      "[[ 1  2  1  4  5  6  7]\n",
      " [ 8  9  2 11 12 20 14]]\n"
     ]
    }
   ],
   "source": [
    "a[1, 5] = 20\n",
    "\n",
    "a[:, 2] = [1, 2]\n",
    "print(a)\n"
   ]
  },
  {
   "attachments": {},
   "cell_type": "markdown",
   "metadata": {},
   "source": [
    "\\*3-d example\n"
   ]
  },
  {
   "cell_type": "code",
   "execution_count": 91,
   "metadata": {},
   "outputs": [
    {
     "name": "stdout",
     "output_type": "stream",
     "text": [
      "[[[1 2 1]\n",
      "  [3 4 2]]\n",
      "\n",
      " [[5 6 3]\n",
      "  [7 8 4]]]\n"
     ]
    },
    {
     "data": {
      "text/plain": [
       "(2, 2, 3)"
      ]
     },
     "execution_count": 91,
     "metadata": {},
     "output_type": "execute_result"
    }
   ],
   "source": [
    "b = np.array([[[1, 2, 1], [3, 4, 2]], [[5, 6, 3], [7, 8, 4]]])\n",
    "print(b)\n",
    "b.shape\n"
   ]
  },
  {
   "cell_type": "code",
   "execution_count": 92,
   "metadata": {},
   "outputs": [
    {
     "data": {
      "text/plain": [
       "4"
      ]
     },
     "execution_count": 92,
     "metadata": {},
     "output_type": "execute_result"
    }
   ],
   "source": [
    "# Get specific element (work outside in)\n",
    "b[0, 1, 1]\n"
   ]
  },
  {
   "cell_type": "code",
   "execution_count": 93,
   "metadata": {},
   "outputs": [
    {
     "name": "stdout",
     "output_type": "stream",
     "text": [
      "[3 4]\n"
     ]
    }
   ],
   "source": [
    "print(b[0, 1, :-1:])\n"
   ]
  },
  {
   "cell_type": "code",
   "execution_count": 94,
   "metadata": {},
   "outputs": [
    {
     "data": {
      "text/plain": [
       "array([[[1, 2, 1],\n",
       "        [0, 0, 2]],\n",
       "\n",
       "       [[5, 6, 3],\n",
       "        [7, 8, 4]]])"
      ]
     },
     "execution_count": 94,
     "metadata": {},
     "output_type": "execute_result"
    }
   ],
   "source": [
    "# replace\n",
    "b[0, 1, :-1:] = [0, 0]\n",
    "b\n"
   ]
  },
  {
   "attachments": {},
   "cell_type": "markdown",
   "metadata": {},
   "source": [
    "### Initializing Different Types of Arrays\n"
   ]
  },
  {
   "cell_type": "code",
   "execution_count": 95,
   "metadata": {},
   "outputs": [
    {
     "data": {
      "text/plain": [
       "array([[0., 0., 0.],\n",
       "       [0., 0., 0.]])"
      ]
     },
     "execution_count": 95,
     "metadata": {},
     "output_type": "execute_result"
    }
   ],
   "source": [
    "# All 0s matrix\n",
    "np.zeros((2, 3))  # use shape as a tuple\n"
   ]
  },
  {
   "cell_type": "code",
   "execution_count": 96,
   "metadata": {},
   "outputs": [
    {
     "data": {
      "text/plain": [
       "array([[[1, 1],\n",
       "        [1, 1]],\n",
       "\n",
       "       [[1, 1],\n",
       "        [1, 1]],\n",
       "\n",
       "       [[1, 1],\n",
       "        [1, 1]],\n",
       "\n",
       "       [[1, 1],\n",
       "        [1, 1]]])"
      ]
     },
     "execution_count": 96,
     "metadata": {},
     "output_type": "execute_result"
    }
   ],
   "source": [
    "# All 1s matrix\n",
    "np.ones((4, 2, 2), dtype='int32')\n"
   ]
  },
  {
   "cell_type": "code",
   "execution_count": 97,
   "metadata": {},
   "outputs": [
    {
     "data": {
      "text/plain": [
       "array([[99, 99],\n",
       "       [99, 99]])"
      ]
     },
     "execution_count": 97,
     "metadata": {},
     "output_type": "execute_result"
    }
   ],
   "source": [
    "# Any other number\n",
    "np.full((2, 2), 99)\n"
   ]
  },
  {
   "cell_type": "code",
   "execution_count": 98,
   "metadata": {},
   "outputs": [],
   "source": [
    "a = np.array([[1, 2, 3, 4, 5, 6, 7], [8, 9, 10, 11, 12, 13, 14]])\n"
   ]
  },
  {
   "cell_type": "code",
   "execution_count": 99,
   "metadata": {},
   "outputs": [
    {
     "data": {
      "text/plain": [
       "array([[99, 99, 99, 99, 99, 99, 99],\n",
       "       [99, 99, 99, 99, 99, 99, 99]])"
      ]
     },
     "execution_count": 99,
     "metadata": {},
     "output_type": "execute_result"
    }
   ],
   "source": [
    "# Any other number (full_like)\n",
    "np.full_like(a, 99)\n"
   ]
  },
  {
   "cell_type": "code",
   "execution_count": 100,
   "metadata": {},
   "outputs": [
    {
     "data": {
      "text/plain": [
       "array([[0.99901665, 0.77558042],\n",
       "       [0.72170968, 0.61757221],\n",
       "       [0.60367237, 0.15773637],\n",
       "       [0.55332889, 0.76321466]])"
      ]
     },
     "execution_count": 100,
     "metadata": {},
     "output_type": "execute_result"
    }
   ],
   "source": [
    "# Random decimal numbers\n",
    "np.random.rand(4, 2)\n"
   ]
  },
  {
   "cell_type": "code",
   "execution_count": 101,
   "metadata": {},
   "outputs": [
    {
     "data": {
      "text/plain": [
       "array([[ 3, -3, -3],\n",
       "       [ 4, -1,  7],\n",
       "       [ 4,  7,  2]])"
      ]
     },
     "execution_count": 101,
     "metadata": {},
     "output_type": "execute_result"
    }
   ],
   "source": [
    "# Random Integer values\n",
    "np.random.randint(-4, 8, size=(3, 3))\n"
   ]
  },
  {
   "cell_type": "code",
   "execution_count": 102,
   "metadata": {},
   "outputs": [
    {
     "data": {
      "text/plain": [
       "array([[1., 0., 0., 0., 0.],\n",
       "       [0., 1., 0., 0., 0.],\n",
       "       [0., 0., 1., 0., 0.],\n",
       "       [0., 0., 0., 1., 0.],\n",
       "       [0., 0., 0., 0., 1.]])"
      ]
     },
     "execution_count": 102,
     "metadata": {},
     "output_type": "execute_result"
    }
   ],
   "source": [
    "# The identity matrix\n",
    "np.identity(5)\n"
   ]
  },
  {
   "cell_type": "code",
   "execution_count": 103,
   "metadata": {},
   "outputs": [
    {
     "name": "stdout",
     "output_type": "stream",
     "text": [
      "[[1 2 3]\n",
      " [1 2 3]\n",
      " [1 2 3]]\n"
     ]
    }
   ],
   "source": [
    "# Repeat an array\n",
    "arr = np.array([[1, 2, 3]])\n",
    "r1 = np.repeat(arr, 3, axis=0)\n",
    "print(r1)\n"
   ]
  },
  {
   "cell_type": "code",
   "execution_count": 104,
   "metadata": {},
   "outputs": [
    {
     "name": "stdout",
     "output_type": "stream",
     "text": [
      "axis=0:\n",
      " [[1 2]\n",
      " [1 2]\n",
      " [3 4]\n",
      " [3 4]]\n",
      "axis=1:\n",
      " [[1 1 2 2]\n",
      " [3 3 4 4]]\n"
     ]
    }
   ],
   "source": [
    "arr2 = np.array([[1, 2],\n",
    "                [3, 4]])\n",
    "r2 = np.repeat(arr2, 2, axis=0)\n",
    "print(\"axis=0:\\n\", r2)\n",
    "r2 = np.repeat(arr2, 2, axis=1)\n",
    "print(\"axis=1:\\n\", r2)\n"
   ]
  },
  {
   "attachments": {},
   "cell_type": "markdown",
   "metadata": {},
   "source": [
    "##### Axis Concept in Numpy\n",
    "\n",
    "The concept of axis in numpy is the direction along the rows or columns. For example, in a 2D array:\n",
    "\n",
    "- `axis 0` is the direction along the rows.\n",
    "- `axis 1` is the direction along the columns.\n",
    "\n",
    "Consider a defined 2D array.\n",
    "\n",
    "###### Axis 0\n",
    "\n",
    "> If we set `axis=0`, we are considering the row direction. Imagine rotating it in a circle. If we set `repeat=2`, we would end up with two instances of `[1 2]`\n",
    "\n",
    "###### Axis 1\n",
    "\n",
    "> On the other hand, if `axis=1`, it means we are considering the column direction. In this case, rotating would give us two 1's and two 2's, resulting in `[1 1 2 2]`.\n"
   ]
  },
  {
   "cell_type": "code",
   "execution_count": 105,
   "metadata": {},
   "outputs": [
    {
     "name": "stdout",
     "output_type": "stream",
     "text": [
      "[[1. 1. 1. 1. 1.]\n",
      " [1. 1. 1. 1. 1.]\n",
      " [1. 1. 1. 1. 1.]\n",
      " [1. 1. 1. 1. 1.]\n",
      " [1. 1. 1. 1. 1.]]\n",
      "[[0. 0. 0.]\n",
      " [0. 9. 0.]\n",
      " [0. 0. 0.]]\n",
      "[[1. 1. 1. 1. 1.]\n",
      " [1. 0. 0. 0. 1.]\n",
      " [1. 0. 9. 0. 1.]\n",
      " [1. 0. 0. 0. 1.]\n",
      " [1. 1. 1. 1. 1.]]\n"
     ]
    }
   ],
   "source": [
    "output = np.ones((5, 5))\n",
    "print(output)\n",
    "\n",
    "z = np.zeros((3, 3))\n",
    "z[1, 1] = 9\n",
    "print(z)\n",
    "\n",
    "output[1:-1, 1:-1] = z\n",
    "print(output)\n"
   ]
  },
  {
   "attachments": {},
   "cell_type": "markdown",
   "metadata": {},
   "source": [
    "##### Be careful when copying arrays!!!\n"
   ]
  },
  {
   "cell_type": "code",
   "execution_count": 106,
   "metadata": {},
   "outputs": [
    {
     "name": "stdout",
     "output_type": "stream",
     "text": [
      "deep copy\n",
      "a: [1 2 3]\n",
      "b: [100   2   3]\n",
      "shallow copy\n",
      "a: [100   2   3]\n",
      "b: [100   2   3]\n"
     ]
    }
   ],
   "source": [
    "print(\"deep copy\")\n",
    "a = np.array([1, 2, 3])\n",
    "b = a.copy()\n",
    "b[0] = 100\n",
    "\n",
    "print(\"a:\", a)\n",
    "print(\"b:\", b)\n",
    "\n",
    "# but\n",
    "print(\"shallow copy\")\n",
    "a = np.array([1, 2, 3])\n",
    "b = a\n",
    "b[0] = 100\n",
    "\n",
    "print(\"a:\", a)\n",
    "print(\"b:\", b)\n"
   ]
  },
  {
   "attachments": {},
   "cell_type": "markdown",
   "metadata": {},
   "source": [
    "### Mathematics\n"
   ]
  },
  {
   "cell_type": "code",
   "execution_count": 107,
   "metadata": {},
   "outputs": [
    {
     "name": "stdout",
     "output_type": "stream",
     "text": [
      "[1 2 3 4]\n"
     ]
    }
   ],
   "source": [
    "a = np.array([1, 2, 3, 4], dtype='int32')\n",
    "print(a)\n"
   ]
  },
  {
   "cell_type": "code",
   "execution_count": 108,
   "metadata": {},
   "outputs": [
    {
     "data": {
      "text/plain": [
       "array([3, 4, 5, 6])"
      ]
     },
     "execution_count": 108,
     "metadata": {},
     "output_type": "execute_result"
    }
   ],
   "source": [
    "a + 2\n"
   ]
  },
  {
   "cell_type": "code",
   "execution_count": 109,
   "metadata": {},
   "outputs": [
    {
     "data": {
      "text/plain": [
       "array([-1,  0,  1,  2])"
      ]
     },
     "execution_count": 109,
     "metadata": {},
     "output_type": "execute_result"
    }
   ],
   "source": [
    "a - 2\n"
   ]
  },
  {
   "cell_type": "code",
   "execution_count": 110,
   "metadata": {},
   "outputs": [
    {
     "data": {
      "text/plain": [
       "array([2, 4, 6, 8])"
      ]
     },
     "execution_count": 110,
     "metadata": {},
     "output_type": "execute_result"
    }
   ],
   "source": [
    "a * 2\n"
   ]
  },
  {
   "cell_type": "code",
   "execution_count": 111,
   "metadata": {},
   "outputs": [
    {
     "data": {
      "text/plain": [
       "array([0.5, 1. , 1.5, 2. ])"
      ]
     },
     "execution_count": 111,
     "metadata": {},
     "output_type": "execute_result"
    }
   ],
   "source": [
    "a / 2\n"
   ]
  },
  {
   "cell_type": "code",
   "execution_count": 112,
   "metadata": {},
   "outputs": [
    {
     "data": {
      "text/plain": [
       "array([2, 2, 4, 4])"
      ]
     },
     "execution_count": 112,
     "metadata": {},
     "output_type": "execute_result"
    }
   ],
   "source": [
    "# a= np.array([1,2,3,4])\n",
    "b = np.array([1, 0, 1, 0])\n",
    "a + b\n"
   ]
  },
  {
   "cell_type": "code",
   "execution_count": 113,
   "metadata": {},
   "outputs": [
    {
     "data": {
      "text/plain": [
       "array([ 1,  4,  9, 16])"
      ]
     },
     "execution_count": 113,
     "metadata": {},
     "output_type": "execute_result"
    }
   ],
   "source": [
    "a ** 2  # a^2\n"
   ]
  },
  {
   "cell_type": "code",
   "execution_count": 114,
   "metadata": {},
   "outputs": [
    {
     "name": "stdout",
     "output_type": "stream",
     "text": [
      "sqrt(2)/2 = 0.70710678\n",
      "[0.70710678]\n",
      "[0.70710678]\n",
      "[1.]\n"
     ]
    }
   ],
   "source": [
    "import math\n",
    "a = np.array([math.pi/4])\n",
    "# Take the trigonometric\n",
    "print(f\"sqrt(2)/2 = {math.sqrt(2)/2:.8f}\")\n",
    "np.set_printoptions(precision=8)  # control the number of decimal places\n",
    "print(np.sin(a))\n",
    "print(np.cos(a))\n",
    "print(np.tan(a))\n"
   ]
  },
  {
   "cell_type": "code",
   "execution_count": 115,
   "metadata": {},
   "outputs": [],
   "source": [
    "# For a lot more (https://docs.scipy.org/doc/numpy/reference/routines.math.html)\n"
   ]
  },
  {
   "attachments": {},
   "cell_type": "markdown",
   "metadata": {},
   "source": [
    "##### Linear Algebra\n"
   ]
  },
  {
   "cell_type": "code",
   "execution_count": 116,
   "metadata": {},
   "outputs": [
    {
     "name": "stdout",
     "output_type": "stream",
     "text": [
      "[[1. 1. 1.]\n",
      " [1. 1. 1.]]\n",
      "[[2 2]\n",
      " [2 2]\n",
      " [2 2]]\n"
     ]
    },
    {
     "data": {
      "text/plain": [
       "array([[6., 6.],\n",
       "       [6., 6.]])"
      ]
     },
     "execution_count": 116,
     "metadata": {},
     "output_type": "execute_result"
    }
   ],
   "source": [
    "a = np.ones((2, 3))\n",
    "print(a)\n",
    "\n",
    "b = np.full((3, 2), 2)\n",
    "print(b)\n",
    "\n",
    "np.matmul(a, b)\n"
   ]
  },
  {
   "cell_type": "code",
   "execution_count": 117,
   "metadata": {},
   "outputs": [
    {
     "data": {
      "text/plain": [
       "1.0"
      ]
     },
     "execution_count": 117,
     "metadata": {},
     "output_type": "execute_result"
    }
   ],
   "source": [
    "# Find the determinant\n",
    "c = np.identity(3)\n",
    "np.linalg.det(c)\n"
   ]
  },
  {
   "cell_type": "code",
   "execution_count": 118,
   "metadata": {},
   "outputs": [],
   "source": [
    "# Reference docs (https://docs.scipy.org/doc/numpy/reference/routines.linalg.html)\n",
    "\n",
    "# Determinant\n",
    "# Trace\n",
    "# Singular Vector Decomposition\n",
    "# Eigenvalues\n",
    "# Matrix Norm\n",
    "# Inverse\n",
    "# Etc...\n"
   ]
  },
  {
   "attachments": {},
   "cell_type": "markdown",
   "metadata": {},
   "source": [
    "##### Statistics\n"
   ]
  },
  {
   "cell_type": "code",
   "execution_count": 119,
   "metadata": {},
   "outputs": [
    {
     "name": "stdout",
     "output_type": "stream",
     "text": [
      "[[ 8 13 29]\n",
      " [55 70  6]]\n"
     ]
    }
   ],
   "source": [
    "stats = np.random.randint(0, 100, size=(2, 3))\n",
    "print(stats)\n"
   ]
  },
  {
   "cell_type": "code",
   "execution_count": 120,
   "metadata": {},
   "outputs": [
    {
     "data": {
      "text/plain": [
       "6"
      ]
     },
     "execution_count": 120,
     "metadata": {},
     "output_type": "execute_result"
    }
   ],
   "source": [
    "np.min(stats)\n"
   ]
  },
  {
   "cell_type": "code",
   "execution_count": 121,
   "metadata": {},
   "outputs": [
    {
     "data": {
      "text/plain": [
       "array([55, 70, 29])"
      ]
     },
     "execution_count": 121,
     "metadata": {},
     "output_type": "execute_result"
    }
   ],
   "source": [
    "np.max(stats, axis=0)\n"
   ]
  },
  {
   "cell_type": "code",
   "execution_count": 122,
   "metadata": {},
   "outputs": [
    {
     "data": {
      "text/plain": [
       "array([63, 83, 35])"
      ]
     },
     "execution_count": 122,
     "metadata": {},
     "output_type": "execute_result"
    }
   ],
   "source": [
    "np.sum(stats, axis=0)\n"
   ]
  },
  {
   "attachments": {},
   "cell_type": "markdown",
   "metadata": {},
   "source": [
    "### Reorganizing Arrays\n"
   ]
  },
  {
   "cell_type": "code",
   "execution_count": 123,
   "metadata": {},
   "outputs": [
    {
     "name": "stdout",
     "output_type": "stream",
     "text": [
      "before:\n",
      " [[1 2 3 4]\n",
      " [5 6 7 8]]\n",
      "after:\n",
      " [[[1 2]\n",
      "  [3 4]]\n",
      "\n",
      " [[5 6]\n",
      "  [7 8]]]\n"
     ]
    }
   ],
   "source": [
    "before = np.array([[1, 2, 3, 4], [5, 6, 7, 8]])\n",
    "print(\"before:\\n\", before)\n",
    "\n",
    "after = before.reshape((2, 2, 2))\n",
    "print(\"after:\\n\", after)\n",
    "\n",
    "# the condition is that the number of elements must be the same\n",
    "# thus 2*4 = 2*2*2\n"
   ]
  },
  {
   "cell_type": "code",
   "execution_count": 124,
   "metadata": {},
   "outputs": [
    {
     "data": {
      "text/plain": [
       "array([[1, 2, 3, 4],\n",
       "       [5, 6, 7, 8],\n",
       "       [1, 2, 3, 4],\n",
       "       [5, 6, 7, 8]])"
      ]
     },
     "execution_count": 124,
     "metadata": {},
     "output_type": "execute_result"
    }
   ],
   "source": [
    "# Vertically stacking vectors\n",
    "v1 = np.array([1, 2, 3, 4])\n",
    "v2 = np.array([5, 6, 7, 8])\n",
    "\n",
    "np.vstack([v1, v2, v1, v2])\n"
   ]
  },
  {
   "cell_type": "code",
   "execution_count": 125,
   "metadata": {},
   "outputs": [
    {
     "data": {
      "text/plain": [
       "array([[1., 1., 1., 1., 0., 0.],\n",
       "       [1., 1., 1., 1., 0., 0.]])"
      ]
     },
     "execution_count": 125,
     "metadata": {},
     "output_type": "execute_result"
    }
   ],
   "source": [
    "# Horizontal  stack\n",
    "h1 = np.ones((2, 4))\n",
    "h2 = np.zeros((2, 2))\n",
    "\n",
    "np.hstack((h1, h2))\n"
   ]
  },
  {
   "attachments": {},
   "cell_type": "markdown",
   "metadata": {},
   "source": [
    "### Miscellaneous\n",
    "\n",
    "##### Load Data from File\n"
   ]
  },
  {
   "cell_type": "code",
   "execution_count": 126,
   "metadata": {},
   "outputs": [
    {
     "name": "stdout",
     "output_type": "stream",
     "text": [
      "[[  2  33  44  55 666  22   3   2   1   1   2   3   4   5   6   7   8   9]\n",
      " [  3  44  55  66 777  33   4   3   2   2   3   4   5   6   7   8   9   0]\n",
      " [  4  55  66  77 888  44   5   4   3   3   4   5   6   7   8   9   0   1]]\n"
     ]
    }
   ],
   "source": [
    "filedata = np.genfromtxt('testNumpy.txt', delimiter=',')\n",
    "filedata = filedata.astype('int64')\n",
    "print(filedata)\n"
   ]
  },
  {
   "attachments": {},
   "cell_type": "markdown",
   "metadata": {},
   "source": [
    "##### Boolean Masking and Advanced Indexing\n"
   ]
  },
  {
   "cell_type": "code",
   "execution_count": 127,
   "metadata": {},
   "outputs": [
    {
     "data": {
      "text/plain": [
       "array([[ True, False, False,  True,  True, False, False,  True,  True,\n",
       "         True,  True, False, False, False, False, False, False, False],\n",
       "       [False, False,  True,  True,  True, False, False, False,  True,\n",
       "         True, False, False, False, False, False, False, False,  True],\n",
       "       [False,  True,  True,  True,  True, False, False, False, False,\n",
       "        False, False, False, False, False, False, False,  True,  True]])"
      ]
     },
     "execution_count": 127,
     "metadata": {},
     "output_type": "execute_result"
    }
   ],
   "source": [
    "(~((filedata > 2) & (filedata < 50)))\n"
   ]
  },
  {
   "attachments": {},
   "cell_type": "markdown",
   "metadata": {},
   "source": [
    "##### Learn more"
   ]
  },
  {
   "cell_type": "code",
   "execution_count": 1,
   "metadata": {},
   "outputs": [],
   "source": [
    "# !RUN THIS CELL!\n",
    "import numpy as np\n",
    "import math\n",
    "rg = np.random.default_rng(20230608)"
   ]
  },
  {
   "cell_type": "code",
   "execution_count": 129,
   "metadata": {},
   "outputs": [
    {
     "name": "stdout",
     "output_type": "stream",
     "text": [
      "[0.         0.34906585 0.6981317  1.04719755 1.3962634  1.74532925\n",
      " 2.0943951  2.44346095 2.7925268  3.14159265]\n"
     ]
    }
   ],
   "source": [
    "a = np.linspace(0, math.pi, 10)\n",
    "print(a)\n"
   ]
  },
  {
   "cell_type": "code",
   "execution_count": 130,
   "metadata": {},
   "outputs": [
    {
     "name": "stdout",
     "output_type": "stream",
     "text": [
      "[[ 0  1  2  3]\n",
      " [10 11 12 13]\n",
      " [20 21 22 23]\n",
      " [30 31 32 33]\n",
      " [40 41 42 43]]\n"
     ]
    }
   ],
   "source": [
    "b = np.fromfunction(lambda i, j: 10 * i + j, (5, 4), dtype=int)\n",
    "print(b)\n"
   ]
  },
  {
   "cell_type": "code",
   "execution_count": 131,
   "metadata": {},
   "outputs": [
    {
     "name": "stdout",
     "output_type": "stream",
     "text": [
      "<numpy.flatiter object at 0x000002430F07B250>\n",
      "[ 0  1  2  3  4  5  6  7  8  9 10 11]\n",
      "0\n",
      "1\n",
      "2\n",
      "3\n",
      "4\n",
      "5\n",
      "6\n",
      "7\n",
      "8\n",
      "9\n",
      "10\n",
      "11\n"
     ]
    }
   ],
   "source": [
    "e = np.arange(12).reshape(2, 3, 2)\n",
    "print(e.flat) # 1d iterator over the array\n",
    "print(e.ravel()) # 1d array\n",
    "for i in e.flat:\n",
    "    print(i)"
   ]
  },
  {
   "cell_type": "code",
   "execution_count": 132,
   "metadata": {},
   "outputs": [
    {
     "name": "stdout",
     "output_type": "stream",
     "text": [
      "[[0. 9. 8. 8.]\n",
      " [2. 6. 1. 1.]\n",
      " [0. 5. 7. 7.]]\n",
      "[0. 9. 8. 8. 2. 6. 1. 1. 0. 5. 7. 7.]\n",
      "[[0. 2. 0.]\n",
      " [9. 6. 5.]\n",
      " [8. 1. 7.]\n",
      " [8. 1. 7.]]\n",
      "[[  4.  12.   2.   2.]\n",
      " [ 12. 142. 113. 113.]\n",
      " [  2. 113. 114. 114.]\n",
      " [  2. 113. 114. 114.]]\n"
     ]
    }
   ],
   "source": [
    "a = np.floor(10*rg.random((3,4)))\n",
    "print(a)\n",
    "print(a.ravel()) # returns the array, flattened\n",
    "print(a.T)  # returns the array, transposed\n",
    "print(a.T @ a) # matrix multiplication"
   ]
  },
  {
   "cell_type": "code",
   "execution_count": 133,
   "metadata": {},
   "outputs": [
    {
     "name": "stdout",
     "output_type": "stream",
     "text": [
      "[6. 5. 3. 3. 9.]\n",
      "[0. 5. 0. 4. 6.]\n",
      "[[6.]\n",
      " [5.]\n",
      " [3.]\n",
      " [3.]\n",
      " [9.]]\n",
      "[[6. 0.]\n",
      " [5. 5.]\n",
      " [3. 0.]\n",
      " [3. 4.]\n",
      " [9. 6.]]\n",
      "[[6. 5. 3. 3. 9.]\n",
      " [0. 5. 0. 4. 6.]]\n"
     ]
    }
   ],
   "source": [
    "a = np.floor(10*rg.random((5)))\n",
    "b = np.floor(10*rg.random((5)))\n",
    "print(a)\n",
    "print(b)\n",
    "print(a[:,np.newaxis])# adds a new axis explaination: https://stackoverflow.com/questions/29241056/how-does-numpy-newaxis-work-and-when-to-use-it\n",
    "print(np.column_stack((a,b))) # stack 1d arrays as columns into 2d array (if 2d arrays, stack as 2d array)\n",
    "print(np.row_stack((a,b))) # row_stack is equivalent to vstack for any input arrays"
   ]
  },
  {
   "cell_type": "code",
   "execution_count": 134,
   "metadata": {},
   "outputs": [
    {
     "name": "stdout",
     "output_type": "stream",
     "text": [
      "[[1. 3. 9. 2. 9. 3. 2. 5. 0. 0. 1. 1.]\n",
      " [8. 7. 6. 8. 8. 5. 3. 4. 5. 1. 1. 2.]\n",
      " [3. 3. 3. 0. 0. 0. 3. 8. 4. 0. 3. 2.]\n",
      " [0. 3. 8. 7. 5. 3. 8. 8. 3. 3. 4. 4.]] \n",
      "\n",
      "[array([[1., 3., 9., 2.],\n",
      "       [8., 7., 6., 8.],\n",
      "       [3., 3., 3., 0.],\n",
      "       [0., 3., 8., 7.]]), array([[9., 3., 2., 5.],\n",
      "       [8., 5., 3., 4.],\n",
      "       [0., 0., 3., 8.],\n",
      "       [5., 3., 8., 8.]]), array([[0., 0., 1., 1.],\n",
      "       [5., 1., 1., 2.],\n",
      "       [4., 0., 3., 2.],\n",
      "       [3., 3., 4., 4.]])] \n",
      "\n",
      "[array([[1., 3., 9., 2., 9., 3., 2., 5., 0., 0., 1., 1.],\n",
      "       [8., 7., 6., 8., 8., 5., 3., 4., 5., 1., 1., 2.]]), array([[3., 3., 3., 0., 0., 0., 3., 8., 4., 0., 3., 2.]]), array([[0., 3., 8., 7., 5., 3., 8., 8., 3., 3., 4., 4.]])] \n",
      "\n"
     ]
    }
   ],
   "source": [
    "# spliting one array into several smaller ones\n",
    "a = np.floor(10*rg.random((4,12)))\n",
    "print(a,\"\\n\")\n",
    "print(np.hsplit(a,3),\"\\n\") # split a into 3\n",
    "print(np.vsplit(a,(2,3)),\"\\n\") # split a after the second and the third row"
   ]
  },
  {
   "attachments": {},
   "cell_type": "markdown",
   "metadata": {},
   "source": [
    "Shallow copy"
   ]
  },
  {
   "cell_type": "code",
   "execution_count": 135,
   "metadata": {},
   "outputs": [
    {
     "name": "stdout",
     "output_type": "stream",
     "text": [
      "b is a : True\n",
      "a.shape : (3, 4)\n",
      "a : [[ 0  1  2  3]\n",
      " [ 4  5  6  7]\n",
      " [ 8  9 10 11]]\n",
      "a.view() is a : False\n",
      "but c is a view of the data owned by a : True\n",
      "a[1:3,1:3] :\n",
      " [[ 5  6]\n",
      " [ 9 10]]\n",
      "a change when use s[:] = 10 because s[:] is a view of s : \n",
      " [[ 0  1  2  3]\n",
      " [ 4 10 10  7]\n",
      " [ 8 10 10 11]]\n"
     ]
    }
   ],
   "source": [
    "a = np.arange(12)\n",
    "b = a # no new object is created\n",
    "print(\"b is a :\",b is a)\n",
    "b.shape = 3,4 # changes the shape of a\n",
    "print(\"a.shape :\",a.shape)\n",
    "print(\"a :\",a)\n",
    "c = a.view() # creates a view of the array with the same data\n",
    "print(\"a.view() is a :\",c is a)\n",
    "# The view method creates a new array object that looks at the same data.\n",
    "print(\"but c is a view of the data owned by a :\",c.base is a) # c is a view of the data owned by a\n",
    "# slicing an array returns a view of it\n",
    "s = a[1:3,1:3]\n",
    "print(\"a[1:3,1:3] :\\n\",s)\n",
    "s[:] = 10 # s[:] is a view of s. Note the difference between s=10 and s[:]=10\n",
    "print(\"a change when use s[:] = 10 because s[:] is a view of s : \\n\",a) # a's element change when use s[:] = 10 because "
   ]
  },
  {
   "attachments": {},
   "cell_type": "markdown",
   "metadata": {},
   "source": [
    "deep copy"
   ]
  },
  {
   "cell_type": "code",
   "execution_count": 136,
   "metadata": {},
   "outputs": [
    {
     "name": "stdout",
     "output_type": "stream",
     "text": [
      "[       0        1        2 ... 99999997 99999998 99999999]\n",
      "False\n",
      "False\n"
     ]
    }
   ],
   "source": [
    "a = np.arange(int(1e8))\n",
    "print(a)\n",
    "b = a[:100].copy()\n",
    "print(b is a)\n",
    "print(b.base is a) # b doesn't share anything with a"
   ]
  },
  {
   "attachments": {},
   "cell_type": "markdown",
   "metadata": {},
   "source": [
    "# identity matrix\n",
    "\n",
    "### what is the difference between eye and identity?\n",
    "- `numpy.eye(N, M=None, k=0, dtype=<class 'float'>, order='C')` : This function returns a 2-D array with ones on the diagonal and zeros elsewhere. It is a more versatile function because it can create non-square matrices (if M is not None and M != N) and also shift the location of the ones (if k is not 0). Here, 'N' is the number of rows, 'M' is the number of columns, and 'k' is the index of the diagonal.\n",
    "\n",
    "> order : {‘C’, ‘F’}, C mean C-style row-major array, F means Fortran-style column-major array\n",
    "\n",
    "> It diferent between when program filled value in array. in 'C' ,the element after a[0,0] is a[0,1] and in 'F' ,the element after a[0,0] is a[1,0]\n",
    "\n",
    "- `numpy.identity(n, dtype=None)` : This function returns a square array with ones on the main diagonal. It is less flexible because it can only create square matrices and the ones can only be on the main diagonal. Here, 'n' is the number of rows (and also columns) in the output."
   ]
  },
  {
   "cell_type": "code",
   "execution_count": 137,
   "metadata": {},
   "outputs": [
    {
     "name": "stdout",
     "output_type": "stream",
     "text": [
      "[[1. 0.]\n",
      " [0. 1.]]\n",
      "[[0. 1. 0.]\n",
      " [0. 0. 1.]\n",
      " [0. 0. 0.]]\n",
      "[[0. 0. 0.]\n",
      " [1. 0. 0.]\n",
      " [0. 1. 0.]]\n"
     ]
    }
   ],
   "source": [
    "# example how to use eye\n",
    "a = np.eye(2) # Create a 2x2 identity matrix\n",
    "print(a)\n",
    "b = np.eye(3, k=1) # Create a 3x3 identity matrix with k=1\n",
    "print(b)\n",
    "c = np.eye(3, k=-1) # Create a 3x3 identity matrix with k=-1\n",
    "print(c)\n",
    "# k is the diagonal index\n",
    "# Why name is eye? Because it is the letter \"I\" being an identity matrix"
   ]
  },
  {
   "attachments": {},
   "cell_type": "markdown",
   "metadata": {},
   "source": [
    "# Less Basic\n",
    "\n",
    "## Broadcasting rule\n",
    "\n",
    "### what is broadcasting rule?\n",
    "- Broadcasting is a powerful mechanism that allows numpy to work with arrays of different shapes when performing arithmetic operations. Frequently we have a smaller array and a larger array, and we want to use the smaller array multiple times to perform some operation on the larger array.\n",
    "\n",
    "> Broadcasting solves the problem of arithmetic between arrays of differing shapes by in effect replicating the smaller array along the last mismatched dimension.\n",
    "\n",
    "### what is the rule of broadcasting?\n",
    "- Broadcasting in NumPy follows a strict set of rules to determine the interaction between the two arrays:\n",
    "\n",
    "> Rule 1: If the two arrays differ in their number of dimensions, the shape of the one with fewer dimensions is padded with ones on its leading (left) side.\n",
    "\n",
    "> Rule 2: If the shape of the two arrays does not match in any dimension, the array with shape equal to 1 in that dimension is stretched to match the other shape.\n",
    "\n",
    "> Rule 3: If in any dimension the sizes disagree and neither is equal to 1, an error is raised.\n",
    "\n",
    "So the sizes of all arrays must match"
   ]
  },
  {
   "cell_type": "code",
   "execution_count": 11,
   "metadata": {},
   "outputs": [
    {
     "name": "stdout",
     "output_type": "stream",
     "text": [
      "[2. 4. 6.]\n"
     ]
    }
   ],
   "source": [
    "import numpy as np\n",
    "a = np.array([1.0, 2.0, 3.0])\n",
    "b = 2.0\n",
    "print(a * b)"
   ]
  }
 ],
 "metadata": {
  "kernelspec": {
   "display_name": "Python 3",
   "language": "python",
   "name": "python3"
  },
  "language_info": {
   "codemirror_mode": {
    "name": "ipython",
    "version": 3
   },
   "file_extension": ".py",
   "mimetype": "text/x-python",
   "name": "python",
   "nbconvert_exporter": "python",
   "pygments_lexer": "ipython3",
   "version": "3.9.16"
  }
 },
 "nbformat": 4,
 "nbformat_minor": 2
}
