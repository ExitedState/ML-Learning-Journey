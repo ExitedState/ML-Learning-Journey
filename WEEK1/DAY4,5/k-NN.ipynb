{
 "cells": [
  {
   "attachments": {},
   "cell_type": "markdown",
   "metadata": {},
   "source": [
    "### k-Nearest Neighbors\n",
    "\n",
    "<span style='font-family:TH Baijam;font-size: 135%'>\n",
    "k-Nearest Neighbors (k-NN) เป็นalgorithm ที่ใช้ในการแก้ปัญหาการจำแนกประเภท(Classification) โดยหลักการของk-NNคือ การค้นหาตัวอย่างจำนวน k ตัวอย่างที่ใกล้เคียงกับสิ่งที่ต้องการจำแนกประเภท<br>\n",
    "Algorithm : กำหนดให้ชุดข้อมูลประกอบด้วยตัวอย่างที่ทราบประเภทจำนวน 9 ตัวอย่าง(1-9) และมีตัวอย่างที่ไม่ทราบประเภทอีก 1 ตัวอย่าง โดยมีการกระจายตัวดังรูป<br>\n",
    "<img src=\"./data/sample_space.jpg\" alt=\"sample\" width=\"30%\"><br>\n",
    "จากภาพข้างต้น กำหนดให้ตัวอย่างที่ 1-3 เป็นประเภท B, 4-6 เป็นประเภท G, 7-9 เป็นประเภท R ถ้าเราต้องการทราบประเภทของ X ด้วย k-NN algorithm สามารถทำได้ดังนี้<br>\n",
    "1. กำหนดค่า k ซึ่งหมายถึงจำนวนตัวอย่างที่ใกล้เคียงกับตัวอย่างที่ต้องการจำแนกประเภท<br>\n",
    "2. กำหนดวิธีการวัดความใกล้เคียง(หรือความเหมือน) ซึ่งโดยทั่วไปจะใช้ Euclidean distance หรือ Manhattan distance<br>\n",
    "3. นับจำนวนตัวอย่างที่ใกล้เคียงที่สุด k ตัว แล้วดูว่าใน k ตัวนั้นมีตัวอย่างประเภทใดมีมากที่สุด, ตัวอย่างนั้นก็คือคำตอบว่า X คือประเภทอะไร<br>\n",
    "ซึ่งในความเป็นจริงนั้น k-NN ไม่ได้ใช้ในการจำแนกประเภทเท่านั้น แต่ยังสามารถใช้ในการทำนายค่าต่างๆได้อีกด้วย เช่น การทำนายราคาของบ้าน การทำนายอายุของคน หรือการทำนายอื่นๆที่เป็นตัวเลขได้<br>\n",
    "ยกตัวอย่างการประยุกต์ใช้งาน โดยให้ข้อมูลดอกไอริส 3 สายพันธุ์ คือ Setosa, Versicolor และ Virginica<br>\n",
    "</span>\n"
   ]
  },
  {
   "cell_type": "code",
   "execution_count": 47,
   "metadata": {},
   "outputs": [
    {
     "name": "stdout",
     "output_type": "stream",
     "text": [
      "(75, 5) (75, 5)\n"
     ]
    }
   ],
   "source": [
    "import pandas as pd\n",
    "import numpy as np\n",
    "import os\n",
    "\n",
    "def load(path='./data/iris.data'):\n",
    "    iris = pd.read_csv(path)\n",
    "    iris.columns = ['sepal_length', 'sepal_width', 'petal_length', 'petal_width', 'class']\n",
    "    return iris\n",
    "\n",
    "def split(test_size):\n",
    "    np.random.seed(97861648)\n",
    "    iris = load().values\n",
    "    np.random.shuffle(iris)\n",
    "    test_size = int(len(iris) * test_size)\n",
    "    test = iris[:test_size, :]\n",
    "    train = iris[test_size:, :]\n",
    "    return test, train\n",
    "\n",
    "    \n",
    "    \n",
    "\n",
    "if __name__ == '__main__':\n",
    "    test,train = split(0.5)\n",
    "    print(test.shape, train.shape)\n",
    "        "
   ]
  }
 ],
 "metadata": {
  "kernelspec": {
   "display_name": "base",
   "language": "python",
   "name": "python3"
  },
  "language_info": {
   "codemirror_mode": {
    "name": "ipython",
    "version": 3
   },
   "file_extension": ".py",
   "mimetype": "text/x-python",
   "name": "python",
   "nbconvert_exporter": "python",
   "pygments_lexer": "ipython3",
   "version": "3.9.16"
  },
  "orig_nbformat": 4
 },
 "nbformat": 4,
 "nbformat_minor": 2
}
