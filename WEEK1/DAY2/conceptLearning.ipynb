{
 "cells": [
  {
   "attachments": {},
   "cell_type": "markdown",
   "metadata": {},
   "source": [
    "#### Hypothesis\n"
   ]
  },
  {
   "attachments": {},
   "cell_type": "markdown",
   "metadata": {},
   "source": [
    "<span style='font-family:TH Baijam;font-size: 135%'>สมมติฐาน(Hypothesis) คือ สิ่งที่ได้จากกระบวนการเรียนรู้เพื่อคาดเดาแนวคิด ซึ่งอาจจะอยู่ในรูปของสมการหรือเป็นรูปแบบอื่นๆ ที่เราสามารถนำไปใช้ในการทำนายได้\n",
    "ตัวอย่างเช่น เรามีข้อมูลของ4วันที่ประกอบไปด้วย Sky,Temp,Humid,Wind,Water,Forecast,PlayTennis ซึ่งเป็นค่าที่เราต้องการจะทำนายว่าเมื่อมีข้อมูลเหล่านี้(ข้อมูลอันดับที่1-6)เข้ามา จะมีสามาถเล่นเทนนิสได้หรือไม่ ซึ่งเราจะสมมติฐานว่า ข้อมูลที่เรามีนั้นจะมีความสัมพันธ์กัน และสามารถนำมาทำนายได้</span>\n"
   ]
  },
  {
   "attachments": {},
   "cell_type": "markdown",
   "metadata": {},
   "source": [
    "# Find-S algorithm\n",
    "\n",
    "<span style='font-family:TH Baijam;font-size: 135%'>\n",
    "S มาจากคำว่า Specific โดย algorithm นี้จะเริ่มต้นจาก The Most Specific Hypothesis ซึ่งก็คือ สมมติฐานที่ไม่รองรับตัวอย่างใดๆ (Null Hypothesis) หลังจากนั้นก็ทำการขยายสมมติฐานให้ครอบคลุมตัวอย่างฝึกฝนทั้งหมด โดย algorithm เป็นดังนี้\n",
    "</span>\n",
    "\n",
    "![Find-S algorithm](https://i.imgur.com/BLuvbPd.jpeg)\n"
   ]
  },
  {
   "cell_type": "code",
   "execution_count": 1,
   "metadata": {},
   "outputs": [
    {
     "name": "stdout",
     "output_type": "stream",
     "text": [
      "['Sunny', 'Warm', '?', 'Strong', '?', '?']\n"
     ]
    }
   ],
   "source": [
    "# Find-S Algorithm\n",
    "examples = [['Sunny', 'Warm', 'Normal', 'Strong', 'Warm', 'Same', 'Yes'],\n",
    "      ['Sunny', 'Warm', 'High', 'Strong', 'Warm', 'Same', 'Yes'],\n",
    "      ['Rainy', 'Cold', 'High', 'Strong', 'Warm', 'Change', 'No'],\n",
    "      ['Sunny', 'Warm', 'High', 'Strong', 'Cool', 'Change', 'Yes']]\n",
    "\n",
    "\n",
    "def findS(examples):\n",
    "    hypothesis = ['0'] * (len(examples[0])-1)\n",
    "    for example in examples:\n",
    "        if example[-1] == 'Yes':\n",
    "            for i in range(len(example)-1):\n",
    "                if hypothesis[i] == '0':\n",
    "                    hypothesis[i] = example[i]\n",
    "                elif hypothesis[i] != example[i]:\n",
    "                    hypothesis[i] = '?'\n",
    "    return hypothesis\n",
    "\n",
    "\n",
    "print(findS(examples))\n"
   ]
  },
  {
   "attachments": {},
   "cell_type": "markdown",
   "metadata": {},
   "source": [
    "The goal of the Find-S algorithm is to find a hypothesis that will correctly classify all the positive examples in the training data.\n",
    "\n",
    "In the context of the Find-S algorithm, `['Sunny','Warm','?','Strong','?','?']` represents a hypothesis. Each element of this list corresponds to a feature or attribute of the data, and the '?' character stands for a \"don't care\" condition, meaning that any value is acceptable for that attribute\n"
   ]
  },
  {
   "attachments": {},
   "cell_type": "markdown",
   "metadata": {},
   "source": [
    "---\n"
   ]
  },
  {
   "attachments": {},
   "cell_type": "markdown",
   "metadata": {},
   "source": [
    "# List-Then-Eliminate algorithm\n",
    "\n",
    "<span style='font-family:TH Baijam;font-size: 135%'>\n",
    "List-Then-Eliminate algorithm จะได้ผลลัพธ์เป็นเซตของสมมติฐานที่สอดคล้องกับตัวอย่างฝึกฝนทั้งหมด ซึ่งเราเรียกว่า Version Space\n",
    "การหาสมมติฐานที่เป็นไปได้ทั้งหมดเป็นงานที่หนักในบางปัญหาที่มีข้อมูลจำนวนมาก ทำให้ algorithm นี้ไม่เหมาะสมในการใช้งานจริง<br>\n",
    "- Version Space เป็นเซตของสมมติฐานที่อยู่ระหว่างสมมติฐานที่เฉพาะเจาะจงเกินไป และสมมติฐานที่ทั่วไปเกินไป<br>\n",
    "- สมมติฐานที่เฉพาะเจาะจงเกินไป เช่น \"คนที่อายุ 18 ปีพอดีชอบเพลงป๊อปและคนที่อายุ 19 ปีพอดีชอบเพลงร็อค\" มีแนวโน้มที่เฉพาะเจาะจงเกินไป<br>\n",
    "- สมมติฐานที่ทั่วไปเกินไป เช่น \"คนที่อายุ 18 ปีทุกคนชอบเพลงป๊อป\" มีแนวโน้มที่ทั่วไปเกินไป\n",
    "</span>\n",
    "\n",
    "algorithm:\n",
    "\n",
    "1. Initialize the list of hypotheses to contain all hypotheses in the hypothesis space.\n",
    "2. For each training example, eliminate from the list any hypothesis inconsistent with the training example.\n",
    "3. Output the list of hypotheses.\n",
    "\n",
    "example ; assume we have the following dataset\n",
    "\n",
    "```py\n",
    "ex = [['Sunny','Warm','Normal','Strong','Warm','Same','Yes'],\n",
    "        ['Rainy','Cold','High','Strong','Warm','Change','No']]\n",
    "```\n",
    "\n",
    "At the start, we have not seen any examples, so all hypotheses are possible. As we start seeing examples, we'll start eliminating hypotheses that do not match the examples.\n",
    "\n",
    "After seeing the first example `['Sunny','Warm','Normal','Strong','Warm','Same','Yes']`, we eliminate all hypotheses that **do not predict** 'Yes' for this example.\n",
    "\n",
    "The third example `['Rainy','Cold','High','Strong','Warm','Change','No']` is a negative example. We eliminate all hypotheses that **predict** 'Yes' for this example.\n",
    "\n",
    "At the end, we are left with a set of hypotheses that are consistent with all the examples we have seen.\n"
   ]
  },
  {
   "cell_type": "code",
   "execution_count": null,
   "metadata": {},
   "outputs": [],
   "source": [
    "# Code by Parinya Sanguansat\n",
    "import numpy as np\n",
    "\n",
    "def ListElim(X, T):\n",
    "    X = np.array(X)\n",
    "    T = np.array(T)\n",
    "    n = X.shape[1]\n",
    "    A = []\n",
    "    for i in range(n):\n",
    "        A.append(sorted(list(set(X[:, i]))))\n",
    "\n",
    "    H = []\n",
    "    t = []\n",
    "    i = 1\n",
    "    idx_data = [0]*n\n",
    "    while True:\n",
    "        h = []\n",
    "        for j in range(n):\n",
    "            h.append(A[j][idx_data[j]])\n",
    "\n",
    "        for tt in np.unique(T):\n",
    "            if isConsist(X, T, h, tt):\n",
    "                H.append(h)\n",
    "                t.append(tt)\n",
    "                print(i, h, tt)\n",
    "                i += 1\n",
    "\n",
    "        idx_data[-1] += 1\n",
    "        letter_index = n-1\n",
    "        while idx_data[letter_index] > len(A[letter_index])-1:\n",
    "            idx_data[letter_index] = 0\n",
    "            letter_index -= 1\n",
    "            if letter_index < 0:\n",
    "                return H, t\n",
    "            idx_data[letter_index] += 1\n",
    "\n",
    "def isConsist(X, T, h, t):\n",
    "    for i in range(len(X)):\n",
    "        if h == list(X[i]) and t != T[i]:\n",
    "            return False\n",
    "    return True\n",
    "\n",
    "\n",
    "ex = [['Sunny', 'Warm', 'Normal', 'Strong', 'Warm', 'Same'],\n",
    "      ['Sunny', 'Warm', 'High', 'Strong', 'Warm', 'Same'],\n",
    "      ['Rainy', 'Cold', 'High', 'Strong', 'Warm', 'Change'],\n",
    "      ['Sunny', 'Warm', 'High', 'Strong', 'Cool', 'Change']]\n",
    "T = ['Yes', 'Yes', 'No', 'Yes']\n",
    "H, t = ListElim(ex, T)"
   ]
  },
  {
   "attachments": {},
   "cell_type": "markdown",
   "metadata": {},
   "source": [
    "This is my implementation of the List-Then-Eliminate algorithm"
   ]
  },
  {
   "cell_type": "code",
   "execution_count": null,
   "metadata": {},
   "outputs": [],
   "source": [
    "# My version, Phaiboon Jaradnaparatana\n",
    "from itertools import product\n",
    "import numpy as np\n",
    "\n",
    "examples = np.array([['Sunny', 'Warm', 'Normal', 'Strong', 'Warm', 'Same', 'Yes'],\n",
    "                    ['Sunny', 'Warm', 'High', 'Strong', 'Warm', 'Same', 'Yes'],\n",
    "                    ['Rainy', 'Cold', 'High', 'Strong', 'Warm', 'Change', 'No'],\n",
    "                    ['Sunny', 'Warm', 'High', 'Strong', 'Cool', 'Change', 'Yes']])\n",
    "\n",
    "# get unique values for each attribute\n",
    "unique_values = [np.unique(examples[:, i]) for i in range(examples.shape[1])]\n",
    "# generate all possible hypotheses\n",
    "hypotheses = list(product(*unique_values))\n",
    "\n",
    "# eliminate hypotheses that are inconsistent with the examples\n",
    "remaining_hypotheses = []\n",
    "for h in hypotheses:\n",
    "    eliminate = False  # flag to mark whether to eliminate the current hypothesis\n",
    "    for e in examples:\n",
    "        if all(h[i] == e[i] for i in range(len(h)-1)) and h[-1] != e[-1]:\n",
    "            eliminate = True\n",
    "            break\n",
    "    if not eliminate:\n",
    "        remaining_hypotheses.append(h)\n",
    "hypotheses = remaining_hypotheses\n",
    "\n",
    "print(f\"All possible hypotheses is:{len(hypotheses)}\")\n",
    "for h in hypotheses:\n",
    "    print(h)"
   ]
  },
  {
   "attachments": {},
   "cell_type": "markdown",
   "metadata": {},
   "source": [
    "---"
   ]
  },
  {
   "attachments": {},
   "cell_type": "markdown",
   "metadata": {},
   "source": [
    "# Candidate Elimination algorithm\n",
    "\n",
    "<span style='font-family:TH Baijam;font-size: 135%'>\n"
   ]
  }
 ],
 "metadata": {
  "kernelspec": {
   "display_name": "base",
   "language": "python",
   "name": "python3"
  },
  "language_info": {
   "codemirror_mode": {
    "name": "ipython",
    "version": 3
   },
   "file_extension": ".py",
   "mimetype": "text/x-python",
   "name": "python",
   "nbconvert_exporter": "python",
   "pygments_lexer": "ipython3",
   "version": "3.9.16"
  },
  "orig_nbformat": 4
 },
 "nbformat": 4,
 "nbformat_minor": 2
}
